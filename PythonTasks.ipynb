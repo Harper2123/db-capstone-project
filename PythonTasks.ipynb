{
 "cells": [
  {
   "cell_type": "code",
   "execution_count": 17,
   "metadata": {},
   "outputs": [],
   "source": [
    "import mysql.connector as connector\n",
    "connection = connector.connect(db='littlelemon', user='ayush', password='facebook')"
   ]
  },
  {
   "cell_type": "code",
   "execution_count": 18,
   "metadata": {},
   "outputs": [
    {
     "name": "stdout",
     "output_type": "stream",
     "text": [
      "None\n"
     ]
    }
   ],
   "source": [
    "cursor = connection.cursor()\n",
    "show_tables_query = \"SHOW tables\" \n",
    "result = cursor.execute(show_tables_query)\n",
    "print(result)"
   ]
  },
  {
   "cell_type": "code",
   "execution_count": 19,
   "metadata": {},
   "outputs": [
    {
     "name": "stdout",
     "output_type": "stream",
     "text": [
      "booking\n",
      "customer\n",
      "menu\n",
      "menuitem\n",
      "orderdelivery\n",
      "orders\n",
      "ordersview\n",
      "staff\n"
     ]
    }
   ],
   "source": [
    "tables = cursor.fetchall()\n",
    "for table in tables:\n",
    "    print(table[0])"
   ]
  },
  {
   "cell_type": "code",
   "execution_count": 22,
   "metadata": {},
   "outputs": [],
   "source": [
    "joinQuery = '''\n",
    "select \n",
    "c.CustID, FullName, o.OrderID, mi.Cost, MenuName, Cuisine\n",
    "from orders as o\n",
    "join orderdelivery as od on o.OrderID = od.OrderID\n",
    "join menu as m on od.MenuID = m.MenuID\n",
    "join menuitem as mi on m.MenuItemsID = mi.MenuItemsID\n",
    "join booking as b on o.BookingID = b.BookingID\n",
    "join customer as c on b.CustID = c.CustID\n",
    "where cost > 60\n",
    "order by cost desc;\n",
    "'''\n",
    "\n",
    "cursor.execute(joinQuery)\n",
    "customers = cursor.fetchall()"
   ]
  },
  {
   "cell_type": "code",
   "execution_count": 24,
   "metadata": {},
   "outputs": [
    {
     "name": "stdout",
     "output_type": "stream",
     "text": [
      "for my database\n",
      "customer orders over $ 60\n",
      "3 Chris Gummer 2 235 Pizza Italian\n",
      "2 Tira Misu 3 235 Pizza Italian\n",
      "2 Tira Misu 3 210 Shawarma Turkish\n",
      "1 Laney Fadden 1 125 Pizza Greek\n",
      "2 Tira Misu 3 125 Pizza Greek\n"
     ]
    }
   ],
   "source": [
    "print('for my database')\n",
    "print('customer orders over $ 60')\n",
    "\n",
    "for customer in customers:\n",
    "    print(customer[0], customer[1], customer[2], customer[3], customer[4], customer[5])"
   ]
  },
  {
   "cell_type": "code",
   "execution_count": null,
   "metadata": {},
   "outputs": [],
   "source": []
  }
 ],
 "metadata": {
  "kernelspec": {
   "display_name": "Python 3",
   "language": "python",
   "name": "python3"
  },
  "language_info": {
   "codemirror_mode": {
    "name": "ipython",
    "version": 3
   },
   "file_extension": ".py",
   "mimetype": "text/x-python",
   "name": "python",
   "nbconvert_exporter": "python",
   "pygments_lexer": "ipython3",
   "version": "3.9.6"
  },
  "orig_nbformat": 4,
  "vscode": {
   "interpreter": {
    "hash": "52634da84371cba311ea128a5ea7cdc41ff074b781779e754b270ff9f8153cee"
   }
  }
 },
 "nbformat": 4,
 "nbformat_minor": 2
}
